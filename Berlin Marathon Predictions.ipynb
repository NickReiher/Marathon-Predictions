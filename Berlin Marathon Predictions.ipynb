{
 "cells": [
  {
   "cell_type": "markdown",
   "metadata": {},
   "source": [
    "In this notebook I am going to share with you some models I developed for predicting the finishing times of runners competing in the 2017 Berlin Marathon.\n",
    "\n",
    "I already scraped the data from the official Berlin Marathon website and did some preprocessing to create the CSV file: 'Berlin_Marathon_2017_Results_Clean.txt' It contains a row for each of the over 39,000 finishers with their age, gender, country, starting time and finishing time (net: when they cross the starting line to when they cross the finishing line). In marathons of this size, some of the runners don't even cross the start line until almost an hour after the gun goes off!"
   ]
  },
  {
   "cell_type": "markdown",
   "metadata": {},
   "source": [
    "Let's start by loading the libraries we'll be using: the machine learnning models come from scikit-learn, I use pandas and numpy dataframes and series to store my data, and the visualizations come from matplotlib and seaborn."
   ]
  },
  {
   "cell_type": "code",
   "execution_count": 14,
   "metadata": {},
   "outputs": [],
   "source": [
    "import pandas as pd\n",
    "import numpy as np\n",
    "\n",
    "import seaborn as sns\n",
    "import matplotlib.pyplot as plt\n",
    "\n",
    "from sklearn.preprocessing import OneHotEncoder\n",
    "from sklearn.preprocessing import LabelEncoder\n",
    "from sklearn.preprocessing import StandardScaler\n",
    "\n",
    "from sklearn.model_selection import train_test_split\n",
    "from sklearn.model_selection import GridSearchCV\n",
    "\n",
    "from sklearn.dummy import DummyRegressor\n",
    "from sklearn.tree import DecisionTreeRegressor, export_graphviz\n",
    "from sklearn.linear_model import LinearRegression, Ridge\n",
    "from sklearn.ensemble import RandomForestRegressor\n",
    "\n",
    "from sklearn.metrics import mean_squared_error, mean_absolute_error\n",
    "\n",
    "import warnings"
   ]
  },
  {
   "cell_type": "code",
   "execution_count": 25,
   "metadata": {},
   "outputs": [],
   "source": [
    "#Ignore depracation warnings for this notebook\n",
    "warnings.filterwarnings('ignore')"
   ]
  },
  {
   "cell_type": "markdown",
   "metadata": {},
   "source": [
    "The csv file contains the following features: age, gender, country, start time (in terms of minutes after the starting gun that the runner crosses the starting line), and finishing time (in minutes)."
   ]
  },
  {
   "cell_type": "code",
   "execution_count": 16,
   "metadata": {},
   "outputs": [],
   "source": [
    "#Load the CSV file - it's already been scraped and preprocessed\n",
    "Results = pd.DataFrame\n",
    "Results = pd.read_table('Berlin_Marathon_2017_Results_Clean.txt', delimiter=',')\n",
    "\n",
    "Results = Results.astype({\"Age\": int, 'Time': float, 'Start Time': float})"
   ]
  },
  {
   "cell_type": "markdown",
   "metadata": {},
   "source": [
    "I start with some exploratory data analysis to get a feel for the data and see if there are any quirks to watch out for."
   ]
  },
  {
   "cell_type": "markdown",
   "metadata": {},
   "source": [
    "Graphing the runners by gender, you can see that there are a lot more male runners than female runners."
   ]
  },
  {
   "cell_type": "code",
   "execution_count": 17,
   "metadata": {},
   "outputs": [
    {
     "data": {
      "text/plain": [
       "<matplotlib.axes._subplots.AxesSubplot at 0x20661ec4cf8>"
      ]
     },
     "execution_count": 17,
     "metadata": {},
     "output_type": "execute_result"
    },
    {
     "data": {
      "image/png": "[encoded data removed]",
      "text/plain": [
       "<Figure size 432x288 with 1 Axes>"
      ]
     },
     "metadata": {
      "needs_background": "light"
     },
     "output_type": "display_data"
    }
   ],
   "source": [
    "sns.countplot(x='Gender', data=Results)"
   ]
  },
  {
   "cell_type": "markdown",
   "metadata": {},
   "source": [
    "Next, I group the runners by country to see how many countries are represented and which have the most runners. Germany has the highest number of runners by far, with more than 6 times as many as the next highest country: Great Britain. This makes sense since the race takes place in Germany and Germany is the most populated country in Europe. On the other end of the spectrum, there are 24 countries that only have one representative.\n",
    "\n",
    "In total, there are 135 countries represented."
   ]
  },
  {
   "cell_type": "code",
   "execution_count": 18,
   "metadata": {
    "scrolled": true
   },
   "outputs": [
    {
     "name": "stdout",
     "output_type": "stream",
     "text": [
      "    Country   Time\n",
      "46      GER  15880\n",
      "45      GBR   2505\n",
      "130     USA   2026\n",
      "31      DEN   1712\n",
      "43      FRA   1466\n",
      "There are 135 countries represented\n",
      "    Country  Time\n",
      "127     UGA     1\n",
      "121     TOG     1\n",
      "10      BAR     1\n",
      "22      CMR     1\n",
      "23      COD     1\n",
      "27      CUB     1\n",
      "123     TRI     1\n",
      "133     ZAM     1\n",
      "28      CUW     1\n",
      "41      FIJ     1\n",
      "32      DMA     1\n",
      "119     TAN     1\n",
      "89      MYA     1\n",
      "44      FRO     1\n",
      "50      GUI     1\n",
      "51      GUY     1\n",
      "73      LAO     1\n",
      "107     SEN     1\n",
      "76      LIE     1\n",
      "83      MDV     1\n",
      "87      MLT     1\n",
      "103     QAT     1\n",
      "88      MTN     1\n",
      "0       AFG     1\n",
      "There are 24 countries with only one runner competing\n"
     ]
    }
   ],
   "source": [
    "Results_by_Country = Results.groupby('Country', as_index=False).count()[['Country', 'Time']]\n",
    "Results_by_Country = Results_by_Country.sort_values(by = ['Time'], ascending = False)\n",
    "print(Results_by_Country.head())\n",
    "print('There are ' + str(len(Results_by_Country)) + ' countries represented')\n",
    "\n",
    "Countries_with_one_Runner = Results_by_Country[Results_by_Country['Time'] == 1]\n",
    "print(Countries_with_one_Runner)\n",
    "print('There are ' + str(len(Countries_with_one_Runner)) + ' countries with only one runner competing')\n"
   ]
  },
  {
   "cell_type": "markdown",
   "metadata": {},
   "source": [
    "An interesting pattern arises when looking at a historgram of the start times. It looks like the runners take off in 3 separate blocks, with a gap of over 10 minutes between each block. \n",
    "\n",
    "To deal with the large number of runners and prevent congestion at the start, and throughout the race, it is typical for the runners to be divided into groups based on their projected finishing times, with the faster runners starting at the front. However, the number of groups, the length of time between the groups, and the amount of people that can cross the starting line at the same time, varies based on the marathon. And even from year to year at the same marrathon. That means this feature must be carefully looked at when applying models between different marathons or years.\n",
    "\n",
    "Even within the same year, it could cause issues, especially for linear models. It is unlikely to affect decision trees (and therefore random forests)."
   ]
  },
  {
   "cell_type": "code",
   "execution_count": 19,
   "metadata": {},
   "outputs": [
    {
     "data": {
      "text/plain": [
       "<matplotlib.axes._subplots.AxesSubplot at 0x20661eeacf8>"
      ]
     },
     "execution_count": 19,
     "metadata": {},
     "output_type": "execute_result"
    },
    {
     "data": {
      "image/png": "[encoded data removed]",
      "text/plain": [
       "<Figure size 432x288 with 1 Axes>"
      ]
     },
     "metadata": {
      "needs_background": "light"
     },
     "output_type": "display_data"
    }
   ],
   "source": [
    "sns.distplot(Results['Start Time'], bins = 60, kde=False, rug=True)"
   ]
  },
  {
   "cell_type": "markdown",
   "metadata": {},
   "source": [
    "Since I'd like to use some linear models, and also build a model that can scale to other years and other marathons, I decideded to delete the gaps between the blocks. To do this, I decided to \"stop\" the start watch when less than 2 runners per second cross the starting line (measured by the minute, so when less than 120 runners cross the starting line in a minute). I chose this method because it can be decided before the race, and therefore could be used at the beginning of another race if I wanted to predict the results in real time."
   ]
  },
  {
   "cell_type": "code",
   "execution_count": 20,
   "metadata": {},
   "outputs": [
    {
     "name": "stdout",
     "output_type": "stream",
     "text": [
      "    Start Minute  Time\n",
      "0            0.0  2116\n",
      "1            1.0  1724\n",
      "2            2.0  1622\n",
      "3            3.0  1578\n",
      "4            4.0  1474\n",
      "5            5.0  1249\n",
      "6            6.0   669\n",
      "7            7.0    65\n",
      "8            8.0    23\n",
      "9            9.0     4\n",
      "10          10.0     3\n",
      "11          20.0  1764\n",
      "12          21.0  1549\n",
      "13          22.0  1453\n",
      "14          23.0  1437\n",
      "15          24.0  1296\n",
      "16          25.0  1436\n",
      "17          26.0  1294\n",
      "18          27.0  1247\n",
      "19          28.0  1178\n",
      "20          29.0  1038\n",
      "21          30.0   659\n",
      "22          31.0    97\n",
      "23          32.0    20\n",
      "24          45.0  1745\n",
      "25          46.0  1389\n",
      "26          47.0  1271\n",
      "27          48.0  1317\n",
      "28          49.0  1219\n",
      "29          50.0  1244\n",
      "30          51.0  1168\n",
      "31          52.0  1082\n",
      "32          53.0  1079\n",
      "33          54.0  1074\n",
      "34          55.0   933\n",
      "35          56.0   606\n",
      "36          57.0    25\n",
      "37          58.0     3\n",
      "38          62.0     1\n"
     ]
    }
   ],
   "source": [
    "Results['Start Minute'] = np.floor(Results['Start Time'])\n",
    "Results_by_Start_Minute = Results.groupby('Start Minute', as_index=False).count()[['Start Minute', 'Time']]\n",
    "print(Results_by_Start_Minute)"
   ]
  },
  {
   "cell_type": "markdown",
   "metadata": {},
   "source": [
    "That means everyone who started in the second block (20:00 to 45:00 after the gun) will have 13 minutes subtracted from their start time (20 - 7). And everyone who started in the third block (> 45:00), will have 27 minutes subtracted from their start time ((20 - 7) + (45 - 31)). \n",
    "\n",
    "Looking at the histogram of adjusted start times, there are now no big gaps between the starting groups."
   ]
  },
  {
   "cell_type": "code",
   "execution_count": 21,
   "metadata": {},
   "outputs": [
    {
     "name": "stdout",
     "output_type": "stream",
     "text": [
      "<class 'pandas.core.frame.DataFrame'>\n",
      "RangeIndex: 39151 entries, 0 to 39150\n",
      "Data columns (total 5 columns):\n",
      "Country                39151 non-null object\n",
      "Gender                 39151 non-null object\n",
      "Age                    39151 non-null int32\n",
      "Time                   39151 non-null float64\n",
      "Adjusted Start Time    39151 non-null float64\n",
      "dtypes: float64(2), int32(1), object(2)\n",
      "memory usage: 1.3+ MB\n",
      "None\n"
     ]
    },
    {
     "data": {
      "image/png": "[encoded data removed]",
      "text/plain": [
       "<Figure size 432x288 with 1 Axes>"
      ]
     },
     "metadata": {
      "needs_background": "light"
     },
     "output_type": "display_data"
    }
   ],
   "source": [
    "def adj_start(x):\n",
    "    if x < 20:\n",
    "        return x\n",
    "    elif x < 45:\n",
    "        return x - 13\n",
    "    else:\n",
    "        return x - 27\n",
    "Results['Adjusted Start Time'] = Results['Start Time'].map(lambda x: adj_start(x))\n",
    "sns.distplot(Results['Adjusted Start Time'], bins = 60, kde=False, rug=True)\n",
    "\n",
    "Results = Results.drop('Start Time', axis = 1)\n",
    "Results = Results.drop('Start Minute', axis = 1)\n",
    "print(Results.info())"
   ]
  },
  {
   "cell_type": "markdown",
   "metadata": {},
   "source": [
    "To make the features work with a variety of regressors, I have to one hot encode the categorical data, as well as scale the numerical data."
   ]
  },
  {
   "cell_type": "code",
   "execution_count": 22,
   "metadata": {},
   "outputs": [],
   "source": [
    "le_gender = LabelEncoder()\n",
    "Results['Gender'] = le_gender.fit_transform(Results['Gender'])\n",
    "\n",
    "ohe_country = OneHotEncoder(categories='auto')\n",
    "X = ohe_country.fit_transform(Results.Country.values.reshape(-1,1)).toarray()\n",
    "CountryOneHot = pd.DataFrame(X, columns = [\"Country_\"+str(int(i)) for i in range(X.shape[1])])\n",
    "Results = pd.concat([Results, CountryOneHot], axis=1)\n",
    "Results = Results.drop('Country', axis=1)"
   ]
  },
  {
   "cell_type": "markdown",
   "metadata": {},
   "source": [
    "Now I divide the data into a train set and test set, and then separate the features from the target, which is the net finishing time."
   ]
  },
  {
   "cell_type": "code",
   "execution_count": 23,
   "metadata": {},
   "outputs": [],
   "source": [
    "train_set, test_set = train_test_split(Results, test_size=.2, random_state=40)\n",
    "\n",
    "y_train, y_test = train_set['Time'], test_set['Time']\n",
    "X_train, X_test = train_set.drop('Time', axis=1), test_set.drop('Time', axis=1)"
   ]
  },
  {
   "cell_type": "markdown",
   "metadata": {},
   "source": [
    "I also have to scale the data for it to work better with certain models, like Ridge Regressions."
   ]
  },
  {
   "cell_type": "code",
   "execution_count": 26,
   "metadata": {},
   "outputs": [],
   "source": [
    "standardScalerX = StandardScaler()\n",
    "standardScalerX.fit(X_train)\n",
    "X_train = standardScalerX.transform(X_train)\n",
    "X_test = standardScalerX.transform(X_test)"
   ]
  },
  {
   "cell_type": "markdown",
   "metadata": {},
   "source": [
    "I first run a dummy regressor that predicts the same time for each runner: the mean finishing time of the train data. It gives a mean absolute error of 36.6 minutes on the test data."
   ]
  },
  {
   "cell_type": "code",
   "execution_count": 27,
   "metadata": {},
   "outputs": [
    {
     "name": "stdout",
     "output_type": "stream",
     "text": [
      "mean squared error error = 2115.2026126590017\n",
      "mean absolute error = 36.574535934972396\n"
     ]
    }
   ],
   "source": [
    "dummy = DummyRegressor()\n",
    "dummy.fit(X_train, y_train)\n",
    "y_test_dummy_pred = dummy.predict(X_test)\n",
    "mean_squared_error_dummy_predict = mean_squared_error(y_test, y_test_dummy_pred)\n",
    "mean_abs_error_dummy_predict = mean_absolute_error(y_test, y_test_dummy_pred)\n",
    "print('mean squared error error = ' + str(mean_squared_error_dummy_predict))\n",
    "print('mean absolute error = ' + str(mean_abs_error_dummy_predict))"
   ]
  },
  {
   "cell_type": "markdown",
   "metadata": {},
   "source": [
    "My first model will be a Ridge Regression. To find the best hyperparameters to use, I will first use grid search with a wide range of possible values for alpha, measuring its accuracy with 5-fold cross-validation. "
   ]
  },
  {
   "cell_type": "code",
   "execution_count": 28,
   "metadata": {},
   "outputs": [
    {
     "name": "stdout",
     "output_type": "stream",
     "text": [
      "{'alpha': '100'}\n"
     ]
    }
   ],
   "source": [
    "ridge = Ridge()\n",
    "ridge_parameters = {'alpha': ['.01', '.1', '1', '10', '100', '200', '1000']}\n",
    "clf = GridSearchCV(ridge, ridge_parameters, cv=5)\n",
    "clf.fit(X_train, y_train)\n",
    "print(clf.best_params_)"
   ]
  },
  {
   "cell_type": "markdown",
   "metadata": {},
   "source": [
    "The first run shows that the best results come with alpha = 100, but I will do another run to see if any other values between 10 and 200 work better."
   ]
  },
  {
   "cell_type": "code",
   "execution_count": 29,
   "metadata": {},
   "outputs": [
    {
     "name": "stdout",
     "output_type": "stream",
     "text": [
      "{'alpha': '150'}\n"
     ]
    }
   ],
   "source": [
    "ridge = Ridge()\n",
    "ridge_parameters = {'alpha': ['10', '30', '50', '70', '90', '110', '130', '150', '170', '190']}\n",
    "clf = GridSearchCV(ridge, ridge_parameters, cv=5)\n",
    "clf.fit(X_train, y_train)\n",
    "print(clf.best_params_)"
   ]
  },
  {
   "cell_type": "markdown",
   "metadata": {},
   "source": [
    "I will now set alpha equal to 150 and put that into a Ridge Regression, which I then run on the test data. I get get a mean absolute error of 23.1 minutes, a decrease of about 46 percent compared to the dummy regressor."
   ]
  },
  {
   "cell_type": "code",
   "execution_count": 35,
   "metadata": {},
   "outputs": [
    {
     "name": "stdout",
     "output_type": "stream",
     "text": [
      "mean squared error error = 959.002460282394\n",
      "mean absolute error = 23.117512097684997\n"
     ]
    }
   ],
   "source": [
    "reg = Ridge(alpha=150)\n",
    "reg.fit(X_train, y_train)\n",
    "y_test_ridge_pred = reg.predict(X_test)\n",
    "mean_squared_error_ridge_predict = mean_squared_error(y_test, y_test_ridge_pred)\n",
    "mean_abs_error_ridge_predict = mean_absolute_error(y_test, y_test_ridge_pred)\n",
    "print('mean squared error error = ' + str(mean_squared_error_ridge_predict))\n",
    "print('mean absolute error = ' + str(mean_abs_error_ridge_predict))"
   ]
  },
  {
   "cell_type": "markdown",
   "metadata": {},
   "source": [
    "As a second model, I would like to try a random forest regression. Once again, I use grid search with 5-fold cross-validation to see what values for the hyperparameters n_estimators and max_depth work best."
   ]
  },
  {
   "cell_type": "code",
   "execution_count": 33,
   "metadata": {},
   "outputs": [
    {
     "name": "stdout",
     "output_type": "stream",
     "text": [
      "{'max_depth': 10, 'n_estimators': 80}\n"
     ]
    }
   ],
   "source": [
    "forest_cv = RandomForestRegressor(random_state = 40)\n",
    "forest_parameters = {'n_estimators': [5, 20, 50, 80], 'max_depth': [5, 10, 20]}\n",
    "clf_forest = GridSearchCV(forest_cv, forest_parameters, cv=5)\n",
    "clf_forest.fit(X_train, y_train)\n",
    "print(clf_forest.best_params_)"
   ]
  },
  {
   "cell_type": "markdown",
   "metadata": {},
   "source": [
    "Setting the hyperparameter n_estimator to 80 and max_depth to 10 gives a mean absolute error of 22.5 on the test set, a decrease of 2.5 percent from the mean absolute error of the Ridge Regression."
   ]
  },
  {
   "cell_type": "code",
   "execution_count": 36,
   "metadata": {},
   "outputs": [
    {
     "name": "stdout",
     "output_type": "stream",
     "text": [
      "mean squared error error = 930.7823960170693\n",
      "mean absolute error = 22.55349775850011\n"
     ]
    }
   ],
   "source": [
    "forest = RandomForestRegressor(n_estimators = 80, max_depth = 10)\n",
    "forest.fit(X_train, y_train)\n",
    "y_test_forest_pred = forest.predict(X_test)\n",
    "mean_squared_error_forest_predict = mean_squared_error(y_test, y_test_forest_pred)\n",
    "mean_abs_error_forest_predict = mean_absolute_error(y_test, y_test_forest_pred)\n",
    "print('mean squared error error = ' + str(mean_squared_error_forest_predict))\n",
    "print('mean absolute error = ' + str(mean_abs_error_forest_predict))"
   ]
  },
  {
   "cell_type": "markdown",
   "metadata": {},
   "source": [
    "In total, we looked at three prediction models: a dummy regression, ridge regression, and random forest regression. As can be expected, the dummy regressor performed the worst. The ridge and random forest worked almost 50 percent better, with the random forest regression working the best."
   ]
  },
  {
   "cell_type": "markdown",
   "metadata": {},
   "source": [
    "The next step is to take these models and expand them to other years of the Berlin Marathon, and then to other marathons.\n",
    "\n",
    "There are a few things I will keep in mind when adding other years of the Berlin Marathon:\n",
    "- The course of the Berlin marathon stays mostly the same, and the organizers will always try to make it as fast as possible for world record attemps: this is not anything that needs to be adjusted for\n",
    "- Demographics of the runners may change, but including features like country, age, and gender will control for some of that.\n",
    "- Not controlled for is the increase in the number of casual runners attempting marathons. I am not sure if there is an easy way to find out this information.\n",
    "- Every year there is more and more knowledge being gained about how to effectively train for a marathon, which will lead to faster times. Looking at overall trends over the years could bring insight into this area.\n",
    "- The organizers might decide to change the starting blocks and / or gap between starting groups. This could lead to adjusting the starting time feature in some way that makes it consistent across years.\n",
    "\n",
    "And some things I will keep in mind when adding other marathons:\n",
    "- Different cities have different courses and different weather: this can lead to huge differences in average times. Even if I don't have the complete data on the historical results of a given marathon, I might be able to find average times of finishers or winning times, which could then be used to adjust the predicted times upwards or downwards by certain factors.\n",
    "- The organizers will have different ways of dividing the runners into starting groups and different rates of runners crossing the starting line. I might have to adjust the model from a time based model to a percentile based model showing where someone starts the race in relation to the other participants.\n",
    "- There are different participant demographics in different countries - some will automatically be controlled for, like country, age, and gender. Others won't be, like the number of casual runners participating versus more serious runners. \n",
    "\n",
    "If you are interested in tackling any of these problems with me, feel free to send me a message and perhaps we could find a way to work together."
   ]
  },
  {
   "cell_type": "code",
   "execution_count": null,
   "metadata": {},
   "outputs": [],
   "source": []
  }
 ],
 "metadata": {
  "kernelspec": {
   "display_name": "Python 3",
   "language": "python",
   "name": "python3"
  },
  "language_info": {
   "codemirror_mode": {
    "name": "ipython",
    "version": 3
   },
   "file_extension": ".py",
   "mimetype": "text/x-python",
   "name": "python",
   "nbconvert_exporter": "python",
   "pygments_lexer": "ipython3",
   "version": "3.7.2"
  }
 },
 "nbformat": 4,
 "nbformat_minor": 2
}
